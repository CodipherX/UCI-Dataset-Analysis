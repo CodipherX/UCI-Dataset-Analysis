{
 "cells": [
  {
   "cell_type": "markdown",
   "metadata": {},
   "source": [
    "## Dataset credits: https://github.com/myleott/mnist_png"
   ]
  },
  {
   "cell_type": "code",
   "execution_count": 1,
   "metadata": {},
   "outputs": [
    {
     "data": {
      "text/plain": [
       "<matplotlib.figure.Figure at 0x7f0bc8b1e890>"
      ]
     },
     "metadata": {},
     "output_type": "display_data"
    }
   ],
   "source": [
    "import matplotlib.pyplot as plt\n",
    "import warnings\n",
    "import numpy as np\n",
    "import pylab as pl\n",
    "import os\n",
    "import cv2\n",
    "import random\n",
    "warnings.filterwarnings('ignore')\n",
    "%matplotlib inline\n",
    "pl.gray()"
   ]
  },
  {
   "cell_type": "code",
   "execution_count": 2,
   "metadata": {},
   "outputs": [],
   "source": [
    "train='mnist_png/training/'\n",
    "temp=np.array([[(a,cv2.imread(str(train+a+\"/\"+x),0)) for x in os.listdir(train+a)] for a in os.listdir(train)])\n",
    "data = [x for sublist in temp for x in sublist]\n",
    "random.shuffle(data)\n",
    "y_train,x_train=zip(*data)\n",
    "x_train=np.array(x_train)\n",
    "y_train=np.array(y_train)"
   ]
  },
  {
   "cell_type": "code",
   "execution_count": 3,
   "metadata": {},
   "outputs": [
    {
     "data": {
      "text/plain": [
       "<matplotlib.image.AxesImage at 0x7f0bca76f550>"
      ]
     },
     "execution_count": 3,
     "metadata": {},
     "output_type": "execute_result"
    },
    {
     "data": {
      "image/png": "[encoded data removed]",
      "text/plain": [
       "<matplotlib.figure.Figure at 0x7f0bc8b28c50>"
      ]
     },
     "metadata": {},
     "output_type": "display_data"
    }
   ],
   "source": [
    "pl.imshow(x_train[421])"
   ]
  },
  {
   "cell_type": "code",
   "execution_count": 4,
   "metadata": {
    "collapsed": true
   },
   "outputs": [],
   "source": [
    "test='mnist_png/testing/'\n",
    "temp=np.array([[(a,cv2.imread(str(test+a+\"/\"+x),0)) for x in os.listdir(test+a)] for a in os.listdir(test)])\n",
    "data = [x for sublist in temp for x in sublist]\n",
    "random.shuffle(data)\n",
    "y_test,x_test=zip(*data)\n",
    "x_test=np.array(x_test)\n",
    "y_test=np.array(y_test)"
   ]
  },
  {
   "cell_type": "code",
   "execution_count": 5,
   "metadata": {},
   "outputs": [
    {
     "data": {
      "text/plain": [
       "<matplotlib.text.Text at 0x7f0bc5c43c10>"
      ]
     },
     "execution_count": 5,
     "metadata": {},
     "output_type": "execute_result"
    },
    {
     "data": {
      "image/png": "[encoded data removed]",
      "text/plain": [
       "<matplotlib.figure.Figure at 0x7f0bc2dc3450>"
      ]
     },
     "metadata": {},
     "output_type": "display_data"
    }
   ],
   "source": [
    "pl.imshow(x_test[420])\n",
    "pl.title(y_test[420])"
   ]
  },
  {
   "cell_type": "code",
   "execution_count": 6,
   "metadata": {},
   "outputs": [],
   "source": [
    "X_test=np.array([np.reshape(image,784) for image in x_test])\n",
    "X_train=np.array([np.reshape(image,784) for image in x_train])"
   ]
  },
  {
   "cell_type": "code",
   "execution_count": 7,
   "metadata": {
    "collapsed": true
   },
   "outputs": [],
   "source": [
    "from sklearn.svm import LinearSVC"
   ]
  },
  {
   "cell_type": "code",
   "execution_count": 8,
   "metadata": {},
   "outputs": [
    {
     "data": {
      "text/plain": [
       "0.88370000000000004"
      ]
     },
     "execution_count": 8,
     "metadata": {},
     "output_type": "execute_result"
    }
   ],
   "source": [
    "clf=LinearSVC()\n",
    "clf.fit(X_train,y_train)\n",
    "clf.score(X_test,y_test)"
   ]
  },
  {
   "cell_type": "code",
   "execution_count": 9,
   "metadata": {
    "collapsed": true
   },
   "outputs": [],
   "source": [
    "from sklearn.ensemble import RandomForestClassifier"
   ]
  },
  {
   "cell_type": "code",
   "execution_count": 10,
   "metadata": {},
   "outputs": [
    {
     "data": {
      "text/plain": [
       "0.9718"
      ]
     },
     "execution_count": 10,
     "metadata": {},
     "output_type": "execute_result"
    }
   ],
   "source": [
    "clf=RandomForestClassifier(n_estimators=500,n_jobs=-1)\n",
    "clf.fit(X_train,y_train)\n",
    "clf.score(X_test,y_test)"
   ]
  },
  {
   "cell_type": "code",
   "execution_count": 11,
   "metadata": {},
   "outputs": [
    {
     "name": "stderr",
     "output_type": "stream",
     "text": [
      "Using TensorFlow backend.\n"
     ]
    }
   ],
   "source": [
    "from keras.models import Sequential\n",
    "from keras.layers import Convolution2D, MaxPooling2D, Flatten, Dense, Dropout"
   ]
  },
  {
   "cell_type": "code",
   "execution_count": 13,
   "metadata": {},
   "outputs": [],
   "source": [
    "from keras.preprocessing.image import ImageDataGenerator"
   ]
  },
  {
   "cell_type": "code",
   "execution_count": 14,
   "metadata": {},
   "outputs": [
    {
     "name": "stdout",
     "output_type": "stream",
     "text": [
      "Found 60000 images belonging to 10 classes.\n",
      "Found 10000 images belonging to 10 classes.\n"
     ]
    }
   ],
   "source": [
    "train_datagen=ImageDataGenerator(rescale=1./255,shear_range=0.2,zoom_range=0.2,horizontal_flip=False)\n",
    "test_datagen=ImageDataGenerator(rescale=1./255)\n",
    "training_set=train_datagen.flow_from_directory('mnist_png/training/',target_size=(28,28),batch_size=32,class_mode=\"categorical\")\n",
    "test_set=test_datagen.flow_from_directory('mnist_png/testing/',target_size=(28,28),batch_size=32,class_mode=\"categorical\")"
   ]
  },
  {
   "cell_type": "code",
   "execution_count": 43,
   "metadata": {},
   "outputs": [],
   "source": [
    "clf=Sequential()\n",
    "clf.add(Convolution2D(20,3,3,input_shape=(28,28,3),activation='relu'))\n",
    "clf.add(MaxPooling2D(pool_size=(2,2)))\n",
    "clf.add(Convolution2D(20,3,3,activation='relu'))\n",
    "clf.add(MaxPooling2D(pool_size=(2,2)))\n",
    "clf.add(Convolution2D(20,3,3,activation='relu'))\n",
    "clf.add(MaxPooling2D(pool_size=(2,2)))\n",
    "clf.add(Flatten())\n",
    "clf.add(Dense(output_dim=128,activation='relu'))\n",
    "clf.add(Dense(output_dim=128,activation='relu'))\n",
    "clf.add(Dense(output_dim=10,activation='sigmoid'))\n",
    "clf.compile(optimizer='rmsprop',loss='categorical_crossentropy',metrics=['accuracy'])"
   ]
  },
  {
   "cell_type": "code",
   "execution_count": 44,
   "metadata": {},
   "outputs": [
    {
     "name": "stdout",
     "output_type": "stream",
     "text": [
      "Epoch 1/25\n",
      "250/250 [==============================] - 42s - loss: 1.0950 - acc: 0.6191 - val_loss: 0.5236 - val_acc: 0.8423\n",
      "Epoch 2/25\n",
      "250/250 [==============================] - 50s - loss: 0.5085 - acc: 0.8360 - val_loss: 0.2572 - val_acc: 0.9223\n",
      "Epoch 3/25\n",
      "250/250 [==============================] - 55s - loss: 0.3576 - acc: 0.8889 - val_loss: 0.1876 - val_acc: 0.9394\n",
      "Epoch 4/25\n",
      "250/250 [==============================] - 57s - loss: 0.2901 - acc: 0.9056 - val_loss: 0.1661 - val_acc: 0.9485\n",
      "Epoch 5/25\n",
      "250/250 [==============================] - 59s - loss: 0.2507 - acc: 0.9205 - val_loss: 0.1379 - val_acc: 0.9576\n",
      "Epoch 6/25\n",
      "250/250 [==============================] - 56s - loss: 0.2213 - acc: 0.9313 - val_loss: 0.1389 - val_acc: 0.9557\n",
      "Epoch 7/25\n",
      "250/250 [==============================] - 52s - loss: 0.2059 - acc: 0.9350 - val_loss: 0.1306 - val_acc: 0.9595\n",
      "Epoch 8/25\n",
      "250/250 [==============================] - 53s - loss: 0.1826 - acc: 0.9400 - val_loss: 0.1330 - val_acc: 0.9574\n",
      "Epoch 9/25\n",
      "250/250 [==============================] - 53s - loss: 0.1703 - acc: 0.9456 - val_loss: 0.1412 - val_acc: 0.9508\n",
      "Epoch 10/25\n",
      "250/250 [==============================] - 54s - loss: 0.1650 - acc: 0.9475 - val_loss: 0.1055 - val_acc: 0.9662\n",
      "Epoch 11/25\n",
      "250/250 [==============================] - 55s - loss: 0.1655 - acc: 0.9493 - val_loss: 0.1081 - val_acc: 0.9659659 - acc: 0.94\n",
      "Epoch 12/25\n",
      "250/250 [==============================] - 56s - loss: 0.1585 - acc: 0.9494 - val_loss: 0.0985 - val_acc: 0.9685\n",
      "Epoch 13/25\n",
      "250/250 [==============================] - 53s - loss: 0.1459 - acc: 0.9564 - val_loss: 0.0799 - val_acc: 0.9750\n",
      "Epoch 14/25\n",
      "250/250 [==============================] - 52s - loss: 0.1378 - acc: 0.9580 - val_loss: 0.0752 - val_acc: 0.9781\n",
      "Epoch 15/25\n",
      "250/250 [==============================] - 52s - loss: 0.1316 - acc: 0.9592 - val_loss: 0.0867 - val_acc: 0.9745\n",
      "Epoch 16/25\n",
      "250/250 [==============================] - 52s - loss: 0.1410 - acc: 0.9563 - val_loss: 0.0805 - val_acc: 0.9754\n",
      "Epoch 17/25\n",
      "250/250 [==============================] - 51s - loss: 0.1267 - acc: 0.9627 - val_loss: 0.1033 - val_acc: 0.9700\n",
      "Epoch 18/25\n",
      "250/250 [==============================] - 51s - loss: 0.1303 - acc: 0.9576 - val_loss: 0.1072 - val_acc: 0.9668\n",
      "Epoch 19/25\n",
      "250/250 [==============================] - 51s - loss: 0.1211 - acc: 0.9640 - val_loss: 0.0829 - val_acc: 0.9755\n",
      "Epoch 20/25\n",
      "250/250 [==============================] - 51s - loss: 0.1291 - acc: 0.9594 - val_loss: 0.0722 - val_acc: 0.9782\n",
      "Epoch 21/25\n",
      "250/250 [==============================] - 51s - loss: 0.1093 - acc: 0.9664 - val_loss: 0.0928 - val_acc: 0.9729\n",
      "Epoch 22/25\n",
      "250/250 [==============================] - 51s - loss: 0.1204 - acc: 0.9659 - val_loss: 0.0718 - val_acc: 0.9802\n",
      "Epoch 23/25\n",
      "250/250 [==============================] - 50s - loss: 0.1160 - acc: 0.9630 - val_loss: 0.0768 - val_acc: 0.9785\n",
      "Epoch 24/25\n",
      "250/250 [==============================] - 51s - loss: 0.1131 - acc: 0.9650 - val_loss: 0.0697 - val_acc: 0.9786\n",
      "Epoch 25/25\n",
      "250/250 [==============================] - 50s - loss: 0.1157 - acc: 0.9673 - val_loss: 0.0663 - val_acc: 0.9806\n"
     ]
    },
    {
     "data": {
      "text/plain": [
       "<keras.callbacks.History at 0x7f0b66c5fb90>"
      ]
     },
     "execution_count": 44,
     "metadata": {},
     "output_type": "execute_result"
    }
   ],
   "source": [
    "clf.fit_generator(training_set,samples_per_epoch=8000,nb_epoch=25,validation_data=test_set,nb_val_samples=2000)"
   ]
  },
  {
   "cell_type": "code",
   "execution_count": null,
   "metadata": {
    "collapsed": true
   },
   "outputs": [],
   "source": []
  }
 ],
 "metadata": {
  "anaconda-cloud": {},
  "kernelspec": {
   "display_name": "Python 2",
   "language": "python",
   "name": "python2"
  },
  "language_info": {
   "codemirror_mode": {
    "name": "ipython",
    "version": 2
   },
   "file_extension": ".py",
   "mimetype": "text/x-python",
   "name": "python",
   "nbconvert_exporter": "python",
   "pygments_lexer": "ipython2",
   "version": "2.7.13"
  }
 },
 "nbformat": 4,
 "nbformat_minor": 2
}
