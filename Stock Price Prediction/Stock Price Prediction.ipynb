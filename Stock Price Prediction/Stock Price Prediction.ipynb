{
 "cells": [
  {
   "cell_type": "markdown",
   "metadata": {},
   "source": [
    "## Dataset source: https://archive.ics.uci.edu/ml/datasets/Stock+portfolio+performance"
   ]
  },
  {
   "cell_type": "code",
   "execution_count": 1,
   "metadata": {
    "collapsed": true
   },
   "outputs": [],
   "source": [
    "import numpy as np\n",
    "import pandas as pd"
   ]
  },
  {
   "cell_type": "code",
   "execution_count": 2,
   "metadata": {},
   "outputs": [
    {
     "data": {
      "text/html": [
       "<div>\n",
       "<style>\n",
       "    .dataframe thead tr:only-child th {\n",
       "        text-align: right;\n",
       "    }\n",
       "\n",
       "    .dataframe thead th {\n",
       "        text-align: left;\n",
       "    }\n",
       "\n",
       "    .dataframe tbody tr th {\n",
       "        vertical-align: top;\n",
       "    }\n",
       "</style>\n",
       "<table border=\"1\" class=\"dataframe\">\n",
       "  <thead>\n",
       "    <tr style=\"text-align: right;\">\n",
       "      <th></th>\n",
       "      <th>Large B/P</th>\n",
       "      <th>Large ROE</th>\n",
       "      <th>Large S/P</th>\n",
       "      <th>Large Return Rate in the last quarter</th>\n",
       "      <th>Large Market Value</th>\n",
       "      <th>Small systematic Risk</th>\n",
       "      <th>Annual Return</th>\n",
       "      <th>Excess Return</th>\n",
       "      <th>Systematic Risk</th>\n",
       "      <th>Total Risk</th>\n",
       "      <th>Abs. Win Rate</th>\n",
       "      <th>Rel. Win Rate</th>\n",
       "      <th>Annual Return.1</th>\n",
       "      <th>Excess Return.1</th>\n",
       "      <th>Systematic Risk.1</th>\n",
       "      <th>Total Risk.1</th>\n",
       "      <th>Abs. Win Rate.1</th>\n",
       "      <th>Rel. Win Rate.1</th>\n",
       "    </tr>\n",
       "    <tr>\n",
       "      <th>ID</th>\n",
       "      <th></th>\n",
       "      <th></th>\n",
       "      <th></th>\n",
       "      <th></th>\n",
       "      <th></th>\n",
       "      <th></th>\n",
       "      <th></th>\n",
       "      <th></th>\n",
       "      <th></th>\n",
       "      <th></th>\n",
       "      <th></th>\n",
       "      <th></th>\n",
       "      <th></th>\n",
       "      <th></th>\n",
       "      <th></th>\n",
       "      <th></th>\n",
       "      <th></th>\n",
       "      <th></th>\n",
       "    </tr>\n",
       "  </thead>\n",
       "  <tbody>\n",
       "    <tr>\n",
       "      <th>1</th>\n",
       "      <td>1.0</td>\n",
       "      <td>0.0</td>\n",
       "      <td>0.0</td>\n",
       "      <td>0.0</td>\n",
       "      <td>0.0</td>\n",
       "      <td>0.0</td>\n",
       "      <td>0.019516</td>\n",
       "      <td>0.013399</td>\n",
       "      <td>1.902608</td>\n",
       "      <td>0.218617</td>\n",
       "      <td>0.60</td>\n",
       "      <td>0.40</td>\n",
       "      <td>0.488229</td>\n",
       "      <td>0.609445</td>\n",
       "      <td>0.780756</td>\n",
       "      <td>0.800000</td>\n",
       "      <td>0.68</td>\n",
       "      <td>0.333333</td>\n",
       "    </tr>\n",
       "    <tr>\n",
       "      <th>2</th>\n",
       "      <td>0.0</td>\n",
       "      <td>1.0</td>\n",
       "      <td>0.0</td>\n",
       "      <td>0.0</td>\n",
       "      <td>0.0</td>\n",
       "      <td>0.0</td>\n",
       "      <td>0.023829</td>\n",
       "      <td>0.006410</td>\n",
       "      <td>1.263287</td>\n",
       "      <td>0.128740</td>\n",
       "      <td>0.55</td>\n",
       "      <td>0.65</td>\n",
       "      <td>0.505279</td>\n",
       "      <td>0.508169</td>\n",
       "      <td>0.443776</td>\n",
       "      <td>0.414220</td>\n",
       "      <td>0.56</td>\n",
       "      <td>0.666667</td>\n",
       "    </tr>\n",
       "    <tr>\n",
       "      <th>3</th>\n",
       "      <td>0.0</td>\n",
       "      <td>0.0</td>\n",
       "      <td>1.0</td>\n",
       "      <td>0.0</td>\n",
       "      <td>0.0</td>\n",
       "      <td>0.0</td>\n",
       "      <td>0.080282</td>\n",
       "      <td>0.026548</td>\n",
       "      <td>1.894339</td>\n",
       "      <td>0.208272</td>\n",
       "      <td>0.55</td>\n",
       "      <td>0.50</td>\n",
       "      <td>0.728484</td>\n",
       "      <td>0.800000</td>\n",
       "      <td>0.776397</td>\n",
       "      <td>0.755594</td>\n",
       "      <td>0.56</td>\n",
       "      <td>0.466667</td>\n",
       "    </tr>\n",
       "    <tr>\n",
       "      <th>4</th>\n",
       "      <td>0.0</td>\n",
       "      <td>0.0</td>\n",
       "      <td>0.0</td>\n",
       "      <td>1.0</td>\n",
       "      <td>0.0</td>\n",
       "      <td>0.0</td>\n",
       "      <td>-0.006683</td>\n",
       "      <td>0.000728</td>\n",
       "      <td>1.425454</td>\n",
       "      <td>0.155526</td>\n",
       "      <td>0.55</td>\n",
       "      <td>0.35</td>\n",
       "      <td>0.384640</td>\n",
       "      <td>0.425836</td>\n",
       "      <td>0.529253</td>\n",
       "      <td>0.529196</td>\n",
       "      <td>0.56</td>\n",
       "      <td>0.266667</td>\n",
       "    </tr>\n",
       "    <tr>\n",
       "      <th>5</th>\n",
       "      <td>0.0</td>\n",
       "      <td>0.0</td>\n",
       "      <td>0.0</td>\n",
       "      <td>0.0</td>\n",
       "      <td>1.0</td>\n",
       "      <td>0.0</td>\n",
       "      <td>0.021999</td>\n",
       "      <td>0.004407</td>\n",
       "      <td>1.094579</td>\n",
       "      <td>0.106729</td>\n",
       "      <td>0.65</td>\n",
       "      <td>0.70</td>\n",
       "      <td>0.498046</td>\n",
       "      <td>0.479146</td>\n",
       "      <td>0.354852</td>\n",
       "      <td>0.319743</td>\n",
       "      <td>0.80</td>\n",
       "      <td>0.733333</td>\n",
       "    </tr>\n",
       "  </tbody>\n",
       "</table>\n",
       "</div>"
      ],
      "text/plain": [
       "     Large B/P    Large ROE    Large S/P   \\\n",
       "ID                                          \n",
       "1           1.0          0.0          0.0   \n",
       "2           0.0          1.0          0.0   \n",
       "3           0.0          0.0          1.0   \n",
       "4           0.0          0.0          0.0   \n",
       "5           0.0          0.0          0.0   \n",
       "\n",
       "     Large Return Rate in the last quarter    Large Market Value   \\\n",
       "ID                                                                  \n",
       "1                                       0.0                   0.0   \n",
       "2                                       0.0                   0.0   \n",
       "3                                       0.0                   0.0   \n",
       "4                                       1.0                   0.0   \n",
       "5                                       0.0                   1.0   \n",
       "\n",
       "     Small systematic Risk  Annual Return  Excess Return  Systematic Risk  \\\n",
       "ID                                                                          \n",
       "1                      0.0       0.019516       0.013399         1.902608   \n",
       "2                      0.0       0.023829       0.006410         1.263287   \n",
       "3                      0.0       0.080282       0.026548         1.894339   \n",
       "4                      0.0      -0.006683       0.000728         1.425454   \n",
       "5                      0.0       0.021999       0.004407         1.094579   \n",
       "\n",
       "    Total Risk  Abs. Win Rate  Rel. Win Rate  Annual Return.1  \\\n",
       "ID                                                              \n",
       "1     0.218617           0.60           0.40         0.488229   \n",
       "2     0.128740           0.55           0.65         0.505279   \n",
       "3     0.208272           0.55           0.50         0.728484   \n",
       "4     0.155526           0.55           0.35         0.384640   \n",
       "5     0.106729           0.65           0.70         0.498046   \n",
       "\n",
       "    Excess Return.1  Systematic Risk.1  Total Risk.1  Abs. Win Rate.1  \\\n",
       "ID                                                                      \n",
       "1          0.609445           0.780756      0.800000             0.68   \n",
       "2          0.508169           0.443776      0.414220             0.56   \n",
       "3          0.800000           0.776397      0.755594             0.56   \n",
       "4          0.425836           0.529253      0.529196             0.56   \n",
       "5          0.479146           0.354852      0.319743             0.80   \n",
       "\n",
       "    Rel. Win Rate.1  \n",
       "ID                   \n",
       "1          0.333333  \n",
       "2          0.666667  \n",
       "3          0.466667  \n",
       "4          0.266667  \n",
       "5          0.733333  "
      ]
     },
     "execution_count": 2,
     "metadata": {},
     "output_type": "execute_result"
    }
   ],
   "source": [
    "dataset=pd.read_excel('stock portfolio performance data set.xlsx',skiprows=1)\n",
    "dataset.set_index('ID',inplace=True)\n",
    "dataset.head()"
   ]
  },
  {
   "cell_type": "code",
   "execution_count": 3,
   "metadata": {
    "collapsed": true
   },
   "outputs": [],
   "source": [
    "X=dataset.values[:,:-6]\n",
    "y=dataset.values[:,-6:]\n",
    "output_label=dataset.columns[-6:]"
   ]
  },
  {
   "cell_type": "code",
   "execution_count": 4,
   "metadata": {
    "collapsed": true
   },
   "outputs": [],
   "source": [
    "from sklearn.model_selection import train_test_split"
   ]
  },
  {
   "cell_type": "code",
   "execution_count": 5,
   "metadata": {
    "collapsed": true
   },
   "outputs": [],
   "source": [
    "X_train, X_test, y_train, y_test=train_test_split(X,y,test_size=0.2, random_state=0)"
   ]
  },
  {
   "cell_type": "code",
   "execution_count": 6,
   "metadata": {
    "collapsed": true
   },
   "outputs": [],
   "source": [
    "from sklearn.preprocessing import StandardScaler"
   ]
  },
  {
   "cell_type": "code",
   "execution_count": 7,
   "metadata": {
    "collapsed": true
   },
   "outputs": [],
   "source": [
    "sc=StandardScaler()\n",
    "X_train=sc.fit_transform(X_train)\n",
    "X_test=sc.transform(X_test)"
   ]
  },
  {
   "cell_type": "code",
   "execution_count": 8,
   "metadata": {
    "collapsed": true
   },
   "outputs": [],
   "source": [
    "from sklearn.linear_model import LinearRegression"
   ]
  },
  {
   "cell_type": "code",
   "execution_count": 9,
   "metadata": {},
   "outputs": [
    {
     "name": "stdout",
     "output_type": "stream",
     "text": [
      "Accuracy for Annual Return.1 is: 1.0\n",
      "Accuracy for Excess Return.1 is: 1.0\n",
      "Accuracy for Systematic Risk.1 is: 1.0\n",
      "Accuracy for Total Risk.1 is: 1.0\n",
      "Accuracy for Abs. Win Rate.1 is: 1.0\n",
      "Accuracy for Rel. Win Rate.1 is: 1.0\n"
     ]
    }
   ],
   "source": [
    "for ol,ytrain,ytest in zip(output_label, y_train.T,y_test.T):\n",
    "    rgr=LinearRegression()\n",
    "    rgr.fit(X_train,ytrain)\n",
    "    print \"Accuracy for\",ol,\"is:\",rgr.score(X_test,ytest)"
   ]
  },
  {
   "cell_type": "code",
   "execution_count": null,
   "metadata": {
    "collapsed": true
   },
   "outputs": [],
   "source": []
  }
 ],
 "metadata": {
  "anaconda-cloud": {},
  "kernelspec": {
   "display_name": "Python 2",
   "language": "python",
   "name": "python2"
  },
  "language_info": {
   "codemirror_mode": {
    "name": "ipython",
    "version": 2
   },
   "file_extension": ".py",
   "mimetype": "text/x-python",
   "name": "python",
   "nbconvert_exporter": "python",
   "pygments_lexer": "ipython2",
   "version": "2.7.13"
  }
 },
 "nbformat": 4,
 "nbformat_minor": 2
}
